{
 "cells": [
  {
   "cell_type": "code",
   "execution_count": null,
   "id": "c0268c14-372f-43a9-86b9-6b4ce67dbca5",
   "metadata": {},
   "outputs": [],
   "source": [
    "\n",
    "import torch\n",
    "from torch import nn\n",
    "import torch.nn.functional as F\n",
    "from model import BiagramLanguageModel , Head\n",
    "import config\n",
    "\n",
    "torch.manual_seed(1337)"
   ]
  },
  {
   "cell_type": "code",
   "execution_count": 2,
   "id": "883a5453-4a82-47b3-bac4-037b542599c5",
   "metadata": {},
   "outputs": [],
   "source": [
    "with open('text.txt', 'r', encoding='utf-8') as f:\n",
    "    text = f.read()\n",
    "\n",
    "\n",
    "chars = sorted(list(set(text)))\n",
    "vocab_size = len(chars)\n",
    "\n",
    "stoi = { ch:i for i,ch in enumerate(chars) }\n",
    "itos = { i:ch for i,ch in enumerate(chars) }\n",
    "encode = lambda s: [stoi[c] for c in s] # encoder: take a string, output a list of integers\n",
    "decode = lambda l: ''.join([itos[i] for i in l]) # decoder: take a list of integers, output a string\n",
    "\n",
    "\n",
    "data = torch.tensor(encode(text))\n",
    "n = int(0.9*len(text))\n",
    "data_train = data[:n]\n",
    "data_val = data[n:]\n",
    "\n",
    "\n",
    "def get_batch(split):\n",
    "    data = data_train if split == \"train\" else data_val\n",
    "    idxs = torch.randint(len(data)-config.block_size, (config.batch_size,))\n",
    "    x = torch.stack([data[i:i+config.block_size] for i in idxs])\n",
    "    y = torch.stack([data[i+1:i+config.block_size+1] for i in idxs])\n",
    "    x , y = x.to(config.device) , y.to(config.device)\n",
    "    return x , y\n"
   ]
  },
  {
   "cell_type": "code",
   "execution_count": 3,
   "id": "d865f6d2-7dc1-4f88-918f-2b6ec9dd78b6",
   "metadata": {},
   "outputs": [],
   "source": [
    "model = BiagramLanguageModel(vocab_size).to(config.device)"
   ]
  },
  {
   "cell_type": "code",
   "execution_count": 4,
   "id": "6c3406fd-76f1-4060-8c7e-f6bbcd035bed",
   "metadata": {},
   "outputs": [
    {
     "name": "stdout",
     "output_type": "stream",
     "text": [
      "0.816705 M parameters\n"
     ]
    }
   ],
   "source": [
    "print(sum(p.numel() for p in model.parameters())/1e6, 'M parameters')"
   ]
  },
  {
   "cell_type": "markdown",
   "id": "8b06072b-a985-45dc-b189-a299fbd20cf1",
   "metadata": {},
   "source": [
    "## Training"
   ]
  },
  {
   "cell_type": "code",
   "execution_count": null,
   "id": "bfc57979-ea4c-4c11-abbc-cb8032c99f7d",
   "metadata": {},
   "outputs": [
    {
     "name": "stdout",
     "output_type": "stream",
     "text": [
      "step 0: train loss 4.5229, val loss 4.5177\n",
      "step 100: train loss 2.4600, val loss 2.4675\n",
      "step 200: train loss 2.3036, val loss 2.3188\n",
      "step 300: train loss 2.1449, val loss 2.1796\n",
      "step 400: train loss 2.0272, val loss 2.0854\n",
      "step 500: train loss 1.9359, val loss 2.0213\n"
     ]
    }
   ],
   "source": [
    "optimizer = torch.optim.AdamW(model.parameters(), lr=config.learning_rate)\n",
    "eval_interval = 100\n",
    "max_iters = 10000\n",
    "eval_iters = 200\n",
    "\n",
    "def estimate_loss():\n",
    "    out = {}\n",
    "    model.eval()\n",
    "    for split in ['train', 'val']:\n",
    "        losses = torch.zeros(eval_iters)\n",
    "        for k in range(eval_iters):\n",
    "            X, Y = get_batch(split)\n",
    "            logits, loss = model(X, Y)\n",
    "            losses[k] = loss.item()\n",
    "        out[split] = losses.mean()\n",
    "    model.train()\n",
    "    return out\n",
    "\n",
    "for iter in range(max_iters):\n",
    "\n",
    "    # every once in a while evaluate the loss on train and val sets\n",
    "    if iter % eval_interval == 0 or iter == max_iters - 1:\n",
    "        losses = estimate_loss()\n",
    "        print(f\"step {iter}: train loss {losses['train']:.4f}, val loss {losses['val']:.4f}\")\n",
    "\n",
    "    # sample a batch of data\n",
    "    xb, yb = get_batch('train')\n",
    "\n",
    "    # evaluate the loss\n",
    "    logits, loss = model(xb, yb)\n",
    "    optimizer.zero_grad(set_to_none=True)\n",
    "    loss.backward()\n",
    "    optimizer.step()\n",
    "\n"
   ]
  },
  {
   "cell_type": "code",
   "execution_count": null,
   "id": "25d27c08-1ab5-46ad-a0ca-5f983b352a39",
   "metadata": {},
   "outputs": [],
   "source": [
    "PATH = \"./models/gpt1.pt\"\n",
    "# torch.save(model, PATH)"
   ]
  },
  {
   "cell_type": "code",
   "execution_count": null,
   "id": "4cf2871a-fe39-4dfb-8bc9-b9296ff9766e",
   "metadata": {},
   "outputs": [],
   "source": [
    "model = torch.load(PATH)\n",
    "\n",
    "\n",
    "test_text = 'Hey there! what are you doing now a days? I hope everything is fine. Lets go for a hunt.'\n",
    "test_tokens = torch.tensor(encode(test_text))\n",
    "\n",
    "\n",
    "temp = torch.stack([test_tokens]).to(config.device)\n",
    "\n",
    "ans = model.generate(temp,1000)\n",
    "\n",
    "ans = [decode(x.tolist()) for x in ans]\n",
    "\n",
    "for _ in ans:\n",
    "    print(_)"
   ]
  },
  {
   "cell_type": "code",
   "execution_count": null,
   "id": "53f64260-9f40-4b1a-9771-a1c178171b39",
   "metadata": {},
   "outputs": [],
   "source": []
  }
 ],
 "metadata": {
  "kernelspec": {
   "display_name": "Python 3 (ipykernel)",
   "language": "python",
   "name": "python3"
  },
  "language_info": {
   "codemirror_mode": {
    "name": "ipython",
    "version": 3
   },
   "file_extension": ".py",
   "mimetype": "text/x-python",
   "name": "python",
   "nbconvert_exporter": "python",
   "pygments_lexer": "ipython3",
   "version": "3.9.0"
  }
 },
 "nbformat": 4,
 "nbformat_minor": 5
}
