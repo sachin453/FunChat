{
 "cells": [
  {
   "cell_type": "code",
   "execution_count": 18,
   "id": "c0268c14-372f-43a9-86b9-6b4ce67dbca5",
   "metadata": {},
   "outputs": [
    {
     "data": {
      "text/plain": [
       "<torch._C.Generator at 0x1636579f950>"
      ]
     },
     "execution_count": 18,
     "metadata": {},
     "output_type": "execute_result"
    }
   ],
   "source": [
    "import torch\n",
    "from torch import nn\n",
    "import torch.nn.functional as F\n",
    "from models import BiagramLanguageModel , Head\n",
    "import config\n",
    "\n",
    "torch.manual_seed(1337)"
   ]
  },
  {
   "cell_type": "code",
   "execution_count": 19,
   "id": "6ca85a4e-d24f-4f18-899c-9896a9170295",
   "metadata": {},
   "outputs": [],
   "source": [
    "# hyper parameters\n",
    "\n",
    "batch_size = 4 # how many independent sequennces will be processed in parallel\n",
    "n_emb = 32\n",
    "inf = 1e9\n",
    "block_size = 8 # max context length to make predictions\n",
    "vocab_size = 34 # number unique characters in the training text\n",
    "\n",
    "max_iters = 5\n",
    "learning_rate = 1e-3\n",
    "device = 'cuda' if torch.cuda.is_available() else 'cpu'\n",
    "eval_items = 200\n"
   ]
  },
  {
   "cell_type": "markdown",
   "id": "8b06072b-a985-45dc-b189-a299fbd20cf1",
   "metadata": {},
   "source": [
    "Training"
   ]
  },
  {
   "cell_type": "code",
   "execution_count": 9,
   "id": "56993a62-20f3-49c2-832c-67ab4cea7b52",
   "metadata": {},
   "outputs": [
    {
     "data": {
      "text/plain": [
       "(tensor([[53, 59,  6,  1, 58, 56, 47, 40],\n",
       "         [49, 43, 43, 54,  1, 47, 58,  1],\n",
       "         [13, 52, 45, 43, 50, 53,  8,  0],\n",
       "         [ 1, 39,  1, 46, 53, 59, 57, 43]], device='cuda:0'),\n",
       " tensor([[59,  6,  1, 58, 56, 47, 40, 59],\n",
       "         [43, 43, 54,  1, 47, 58,  1, 58],\n",
       "         [52, 45, 43, 50, 53,  8,  0, 26],\n",
       "         [39,  1, 46, 53, 59, 57, 43,  0]], device='cuda:0'))"
      ]
     },
     "execution_count": 9,
     "metadata": {},
     "output_type": "execute_result"
    }
   ],
   "source": [
    "with open('text.txt', 'r', encoding='utf-8') as f:\n",
    "    text = f.read()\n",
    "\n",
    "# here are all the unique characters that occur in this text\n",
    "chars = sorted(list(set(text)))\n",
    "vocab_size = len(chars)\n",
    "# create a mapping from characters to integers\n",
    "stoi = { ch:i for i,ch in enumerate(chars) }\n",
    "itos = { i:ch for i,ch in enumerate(chars) }\n",
    "encode = lambda s: [stoi[c] for c in s] # encoder: take a string, output a list of integers\n",
    "decode = lambda l: ''.join([itos[i] for i in l]) # decoder: take a list of integers, output a string\n",
    "\n",
    "\n",
    "n = int(0.9*len(text))\n",
    "\n",
    "data = torch.tensor(encode(text))\n",
    "data_train = data[:n]\n",
    "data_val = data[n:]\n",
    "\n",
    "\n",
    "def get_batch(split):\n",
    "    data = data_train if split == \"train\" else data_val\n",
    "    idxs = torch.randint(len(data)-block_size, (batch_size,))\n",
    "    x = torch.stack([data[i:i+block_size] for i in idxs])\n",
    "    y = torch.stack([data[i+1:i+block_size+1] for i in idxs])\n",
    "    x , y = x.to(device) , y.to(device)\n",
    "    return x , y\n",
    "\n",
    "\n"
   ]
  }
 ],
 "metadata": {
  "kernelspec": {
   "display_name": "Python 3 (ipykernel)",
   "language": "python",
   "name": "python3"
  },
  "language_info": {
   "codemirror_mode": {
    "name": "ipython",
    "version": 3
   },
   "file_extension": ".py",
   "mimetype": "text/x-python",
   "name": "python",
   "nbconvert_exporter": "python",
   "pygments_lexer": "ipython3",
   "version": "3.9.0"
  }
 },
 "nbformat": 4,
 "nbformat_minor": 5
}
