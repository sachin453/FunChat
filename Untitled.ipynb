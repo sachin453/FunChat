{
 "cells": [
  {
   "cell_type": "code",
   "execution_count": 1,
   "id": "c0268c14-372f-43a9-86b9-6b4ce67dbca5",
   "metadata": {},
   "outputs": [
    {
     "name": "stderr",
     "output_type": "stream",
     "text": [
      "\n",
      "A module that was compiled using NumPy 1.x cannot be run in\n",
      "NumPy 2.0.2 as it may crash. To support both 1.x and 2.x\n",
      "versions of NumPy, modules must be compiled with NumPy 2.0.\n",
      "Some module may need to rebuild instead e.g. with 'pybind11>=2.12'.\n",
      "\n",
      "If you are a user of the module, the easiest solution will be to\n",
      "downgrade to 'numpy<2' or try to upgrade the affected module.\n",
      "We expect that some modules will need time to support NumPy 2.\n",
      "\n",
      "Traceback (most recent call last):  File \"C:\\Users\\sachi\\AppData\\Local\\Programs\\Python\\Python39\\lib\\runpy.py\", line 197, in _run_module_as_main\n",
      "    return _run_code(code, main_globals, None,\n",
      "  File \"C:\\Users\\sachi\\AppData\\Local\\Programs\\Python\\Python39\\lib\\runpy.py\", line 87, in _run_code\n",
      "    exec(code, run_globals)\n",
      "  File \"c:\\users\\sachi\\onedrive\\documents\\github\\envs\\funchat\\lib\\site-packages\\ipykernel_launcher.py\", line 18, in <module>\n",
      "    app.launch_new_instance()\n",
      "  File \"c:\\users\\sachi\\onedrive\\documents\\github\\envs\\funchat\\lib\\site-packages\\traitlets\\config\\application.py\", line 1075, in launch_instance\n",
      "    app.start()\n",
      "  File \"c:\\users\\sachi\\onedrive\\documents\\github\\envs\\funchat\\lib\\site-packages\\ipykernel\\kernelapp.py\", line 739, in start\n",
      "    self.io_loop.start()\n",
      "  File \"c:\\users\\sachi\\onedrive\\documents\\github\\envs\\funchat\\lib\\site-packages\\tornado\\platform\\asyncio.py\", line 205, in start\n",
      "    self.asyncio_loop.run_forever()\n",
      "  File \"C:\\Users\\sachi\\AppData\\Local\\Programs\\Python\\Python39\\lib\\asyncio\\base_events.py\", line 596, in run_forever\n",
      "    self._run_once()\n",
      "  File \"C:\\Users\\sachi\\AppData\\Local\\Programs\\Python\\Python39\\lib\\asyncio\\base_events.py\", line 1890, in _run_once\n",
      "    handle._run()\n",
      "  File \"C:\\Users\\sachi\\AppData\\Local\\Programs\\Python\\Python39\\lib\\asyncio\\events.py\", line 80, in _run\n",
      "    self._context.run(self._callback, *self._args)\n",
      "  File \"c:\\users\\sachi\\onedrive\\documents\\github\\envs\\funchat\\lib\\site-packages\\ipykernel\\kernelbase.py\", line 545, in dispatch_queue\n",
      "    await self.process_one()\n",
      "  File \"c:\\users\\sachi\\onedrive\\documents\\github\\envs\\funchat\\lib\\site-packages\\ipykernel\\kernelbase.py\", line 534, in process_one\n",
      "    await dispatch(*args)\n",
      "  File \"c:\\users\\sachi\\onedrive\\documents\\github\\envs\\funchat\\lib\\site-packages\\ipykernel\\kernelbase.py\", line 437, in dispatch_shell\n",
      "    await result\n",
      "  File \"c:\\users\\sachi\\onedrive\\documents\\github\\envs\\funchat\\lib\\site-packages\\ipykernel\\ipkernel.py\", line 362, in execute_request\n",
      "    await super().execute_request(stream, ident, parent)\n",
      "  File \"c:\\users\\sachi\\onedrive\\documents\\github\\envs\\funchat\\lib\\site-packages\\ipykernel\\kernelbase.py\", line 778, in execute_request\n",
      "    reply_content = await reply_content\n",
      "  File \"c:\\users\\sachi\\onedrive\\documents\\github\\envs\\funchat\\lib\\site-packages\\ipykernel\\ipkernel.py\", line 449, in do_execute\n",
      "    res = shell.run_cell(\n",
      "  File \"c:\\users\\sachi\\onedrive\\documents\\github\\envs\\funchat\\lib\\site-packages\\ipykernel\\zmqshell.py\", line 549, in run_cell\n",
      "    return super().run_cell(*args, **kwargs)\n",
      "  File \"c:\\users\\sachi\\onedrive\\documents\\github\\envs\\funchat\\lib\\site-packages\\IPython\\core\\interactiveshell.py\", line 3048, in run_cell\n",
      "    result = self._run_cell(\n",
      "  File \"c:\\users\\sachi\\onedrive\\documents\\github\\envs\\funchat\\lib\\site-packages\\IPython\\core\\interactiveshell.py\", line 3103, in _run_cell\n",
      "    result = runner(coro)\n",
      "  File \"c:\\users\\sachi\\onedrive\\documents\\github\\envs\\funchat\\lib\\site-packages\\IPython\\core\\async_helpers.py\", line 129, in _pseudo_sync_runner\n",
      "    coro.send(None)\n",
      "  File \"c:\\users\\sachi\\onedrive\\documents\\github\\envs\\funchat\\lib\\site-packages\\IPython\\core\\interactiveshell.py\", line 3308, in run_cell_async\n",
      "    has_raised = await self.run_ast_nodes(code_ast.body, cell_name,\n",
      "  File \"c:\\users\\sachi\\onedrive\\documents\\github\\envs\\funchat\\lib\\site-packages\\IPython\\core\\interactiveshell.py\", line 3490, in run_ast_nodes\n",
      "    if await self.run_code(code, result, async_=asy):\n",
      "  File \"c:\\users\\sachi\\onedrive\\documents\\github\\envs\\funchat\\lib\\site-packages\\IPython\\core\\interactiveshell.py\", line 3550, in run_code\n",
      "    exec(code_obj, self.user_global_ns, self.user_ns)\n",
      "  File \"C:\\Users\\sachi\\AppData\\Local\\Temp\\ipykernel_21644\\999800599.py\", line 7, in <module>\n",
      "    torch.manual_seed(1337)\n",
      "  File \"c:\\users\\sachi\\onedrive\\documents\\github\\envs\\funchat\\lib\\site-packages\\torch\\random.py\", line 46, in manual_seed\n",
      "    return default_generator.manual_seed(seed)\n",
      "c:\\users\\sachi\\onedrive\\documents\\github\\envs\\funchat\\lib\\site-packages\\torch\\random.py:46: UserWarning: Failed to initialize NumPy: _ARRAY_API not found (Triggered internally at C:\\actions-runner\\_work\\pytorch\\pytorch\\builder\\windows\\pytorch\\torch\\csrc\\utils\\tensor_numpy.cpp:84.)\n",
      "  return default_generator.manual_seed(seed)\n"
     ]
    },
    {
     "data": {
      "text/plain": [
       "<torch._C.Generator at 0x250c54e4930>"
      ]
     },
     "execution_count": 1,
     "metadata": {},
     "output_type": "execute_result"
    }
   ],
   "source": [
    "import torch\n",
    "from torch import nn\n",
    "import torch.nn.functional as F\n",
    "from models import BiagramLanguageModel , Head\n",
    "import config\n",
    "\n",
    "torch.manual_seed(1337)"
   ]
  },
  {
   "cell_type": "code",
   "execution_count": 2,
   "id": "883a5453-4a82-47b3-bac4-037b542599c5",
   "metadata": {},
   "outputs": [],
   "source": [
    "with open('text.txt', 'r', encoding='utf-8') as f:\n",
    "    text = f.read()\n",
    "\n",
    "\n",
    "chars = sorted(list(set(text)))\n",
    "vocab_size = len(chars)\n",
    "\n",
    "stoi = { ch:i for i,ch in enumerate(chars) }\n",
    "itos = { i:ch for i,ch in enumerate(chars) }\n",
    "encode = lambda s: [stoi[c] for c in s] # encoder: take a string, output a list of integers\n",
    "decode = lambda l: ''.join([itos[i] for i in l]) # decoder: take a list of integers, output a string\n",
    "\n",
    "\n",
    "data = torch.tensor(encode(text))\n",
    "n = int(0.9*len(text))\n",
    "data_train = data[:n]\n",
    "data_val = data[n:]\n",
    "\n",
    "\n",
    "def get_batch(split):\n",
    "    data = data_train if split == \"train\" else data_val\n",
    "    idxs = torch.randint(len(data)-config.block_size, (config.batch_size,))\n",
    "    x = torch.stack([data[i:i+config.block_size] for i in idxs])\n",
    "    y = torch.stack([data[i+1:i+config.block_size+1] for i in idxs])\n",
    "    x , y = x.to(config.device) , y.to(config.device)\n",
    "    return x , y\n"
   ]
  },
  {
   "cell_type": "code",
   "execution_count": 3,
   "id": "d865f6d2-7dc1-4f88-918f-2b6ec9dd78b6",
   "metadata": {},
   "outputs": [],
   "source": [
    "model = BiagramLanguageModel(vocab_size).to(config.device)"
   ]
  },
  {
   "cell_type": "code",
   "execution_count": 4,
   "id": "6c3406fd-76f1-4060-8c7e-f6bbcd035bed",
   "metadata": {},
   "outputs": [
    {
     "name": "stdout",
     "output_type": "stream",
     "text": [
      "0.021697 M parameters\n"
     ]
    }
   ],
   "source": [
    "print(sum(p.numel() for p in model.parameters())/1e6, 'M parameters')"
   ]
  },
  {
   "cell_type": "markdown",
   "id": "8b06072b-a985-45dc-b189-a299fbd20cf1",
   "metadata": {},
   "source": [
    "## Training"
   ]
  },
  {
   "cell_type": "code",
   "execution_count": 5,
   "id": "bfc57979-ea4c-4c11-abbc-cb8032c99f7d",
   "metadata": {},
   "outputs": [
    {
     "name": "stdout",
     "output_type": "stream",
     "text": [
      "step 0: train loss 4.1587, val loss 4.1598\n",
      "step 100: train loss 2.9403, val loss 2.9487\n",
      "step 200: train loss 2.7542, val loss 2.7605\n",
      "step 300: train loss 2.6176, val loss 2.6193\n",
      "step 400: train loss 2.5121, val loss 2.5231\n",
      "step 500: train loss 2.4573, val loss 2.4680\n",
      "step 600: train loss 2.4344, val loss 2.4418\n",
      "step 700: train loss 2.4144, val loss 2.4300\n",
      "step 800: train loss 2.4035, val loss 2.4124\n",
      "step 900: train loss 2.3958, val loss 2.4081\n",
      "step 1000: train loss 2.3871, val loss 2.3980\n",
      "step 1100: train loss 2.3770, val loss 2.3901\n",
      "step 1200: train loss 2.3718, val loss 2.3907\n",
      "step 1300: train loss 2.3666, val loss 2.3827\n",
      "step 1400: train loss 2.3647, val loss 2.3836\n",
      "step 1500: train loss 2.3616, val loss 2.3791\n",
      "step 1600: train loss 2.3555, val loss 2.3777\n",
      "step 1700: train loss 2.3524, val loss 2.3763\n",
      "step 1800: train loss 2.3448, val loss 2.3695\n",
      "step 1900: train loss 2.3401, val loss 2.3712\n",
      "step 2000: train loss 2.3360, val loss 2.3697\n",
      "step 2100: train loss 2.3366, val loss 2.3683\n",
      "step 2200: train loss 2.3341, val loss 2.3631\n",
      "step 2300: train loss 2.3352, val loss 2.3608\n",
      "step 2400: train loss 2.3313, val loss 2.3669\n",
      "step 2500: train loss 2.3303, val loss 2.3650\n",
      "step 2600: train loss 2.3276, val loss 2.3623\n",
      "step 2700: train loss 2.3256, val loss 2.3588\n",
      "step 2800: train loss 2.3266, val loss 2.3516\n",
      "step 2900: train loss 2.3237, val loss 2.3493\n",
      "step 3000: train loss 2.3194, val loss 2.3572\n",
      "step 3100: train loss 2.3201, val loss 2.3523\n",
      "step 3200: train loss 2.3219, val loss 2.3555\n",
      "step 3300: train loss 2.3166, val loss 2.3513\n",
      "step 3400: train loss 2.3129, val loss 2.3478\n",
      "step 3500: train loss 2.3159, val loss 2.3453\n",
      "step 3600: train loss 2.3124, val loss 2.3457\n",
      "step 3700: train loss 2.3128, val loss 2.3439\n",
      "step 3800: train loss 2.3147, val loss 2.3475\n",
      "step 3900: train loss 2.3038, val loss 2.3407\n",
      "step 4000: train loss 2.3078, val loss 2.3400\n",
      "step 4100: train loss 2.2978, val loss 2.3377\n",
      "step 4200: train loss 2.3115, val loss 2.3447\n",
      "step 4300: train loss 2.3061, val loss 2.3418\n",
      "step 4400: train loss 2.3094, val loss 2.3451\n",
      "step 4500: train loss 2.2971, val loss 2.3443\n",
      "step 4600: train loss 2.3040, val loss 2.3394\n",
      "step 4700: train loss 2.2934, val loss 2.3433\n",
      "step 4800: train loss 2.3007, val loss 2.3454\n",
      "step 4900: train loss 2.3031, val loss 2.3410\n",
      "step 5000: train loss 2.3015, val loss 2.3400\n",
      "step 5100: train loss 2.2943, val loss 2.3339\n",
      "step 5200: train loss 2.3014, val loss 2.3389\n",
      "step 5300: train loss 2.2970, val loss 2.3353\n",
      "step 5400: train loss 2.2961, val loss 2.3474\n",
      "step 5500: train loss 2.2941, val loss 2.3395\n",
      "step 5600: train loss 2.2925, val loss 2.3402\n",
      "step 5700: train loss 2.2914, val loss 2.3319\n",
      "step 5800: train loss 2.2958, val loss 2.3444\n",
      "step 5900: train loss 2.2915, val loss 2.3406\n",
      "step 6000: train loss 2.2904, val loss 2.3375\n",
      "step 6100: train loss 2.2910, val loss 2.3342\n",
      "step 6200: train loss 2.2870, val loss 2.3386\n",
      "step 6300: train loss 2.2942, val loss 2.3338\n",
      "step 6400: train loss 2.2872, val loss 2.3344\n",
      "step 6500: train loss 2.2890, val loss 2.3378\n",
      "step 6600: train loss 2.2900, val loss 2.3374\n",
      "step 6700: train loss 2.2904, val loss 2.3262\n",
      "step 6800: train loss 2.2895, val loss 2.3394\n",
      "step 6900: train loss 2.2867, val loss 2.3358\n",
      "step 7000: train loss 2.2966, val loss 2.3351\n",
      "step 7100: train loss 2.2853, val loss 2.3325\n",
      "step 7200: train loss 2.2883, val loss 2.3347\n",
      "step 7300: train loss 2.2887, val loss 2.3346\n",
      "step 7400: train loss 2.2876, val loss 2.3413\n",
      "step 7500: train loss 2.2878, val loss 2.3313\n",
      "step 7600: train loss 2.2868, val loss 2.3334\n",
      "step 7700: train loss 2.2915, val loss 2.3373\n",
      "step 7800: train loss 2.2875, val loss 2.3344\n",
      "step 7900: train loss 2.2834, val loss 2.3307\n",
      "step 8000: train loss 2.2866, val loss 2.3324\n",
      "step 8100: train loss 2.2888, val loss 2.3263\n",
      "step 8200: train loss 2.2861, val loss 2.3364\n",
      "step 8300: train loss 2.2813, val loss 2.3321\n",
      "step 8400: train loss 2.2845, val loss 2.3280\n",
      "step 8500: train loss 2.2858, val loss 2.3378\n",
      "step 8600: train loss 2.2847, val loss 2.3300\n",
      "step 8700: train loss 2.2880, val loss 2.3333\n",
      "step 8800: train loss 2.2818, val loss 2.3370\n",
      "step 8900: train loss 2.2771, val loss 2.3337\n",
      "step 9000: train loss 2.2838, val loss 2.3356\n",
      "step 9100: train loss 2.2833, val loss 2.3321\n",
      "step 9200: train loss 2.2806, val loss 2.3278\n",
      "step 9300: train loss 2.2825, val loss 2.3368\n",
      "step 9400: train loss 2.2742, val loss 2.3289\n",
      "step 9500: train loss 2.2785, val loss 2.3354\n",
      "step 9600: train loss 2.2830, val loss 2.3291\n",
      "step 9700: train loss 2.2741, val loss 2.3295\n",
      "step 9800: train loss 2.2798, val loss 2.3325\n",
      "step 9900: train loss 2.2800, val loss 2.3278\n",
      "step 9999: train loss 2.2769, val loss 2.3331\n"
     ]
    }
   ],
   "source": [
    "optimizer = torch.optim.AdamW(model.parameters(), lr=config.learning_rate)\n",
    "eval_interval = 100\n",
    "max_iters = 10000\n",
    "eval_iters = 200\n",
    "\n",
    "def estimate_loss():\n",
    "    out = {}\n",
    "    model.eval()\n",
    "    for split in ['train', 'val']:\n",
    "        losses = torch.zeros(eval_iters)\n",
    "        for k in range(eval_iters):\n",
    "            X, Y = get_batch(split)\n",
    "            logits, loss = model(X, Y)\n",
    "            losses[k] = loss.item()\n",
    "        out[split] = losses.mean()\n",
    "    model.train()\n",
    "    return out\n",
    "\n",
    "for iter in range(max_iters):\n",
    "\n",
    "    # every once in a while evaluate the loss on train and val sets\n",
    "    if iter % eval_interval == 0 or iter == max_iters - 1:\n",
    "        losses = estimate_loss()\n",
    "        print(f\"step {iter}: train loss {losses['train']:.4f}, val loss {losses['val']:.4f}\")\n",
    "\n",
    "    # sample a batch of data\n",
    "    xb, yb = get_batch('train')\n",
    "\n",
    "    # evaluate the loss\n",
    "    logits, loss = model(xb, yb)\n",
    "    optimizer.zero_grad(set_to_none=True)\n",
    "    loss.backward()\n",
    "    optimizer.step()\n",
    "\n"
   ]
  },
  {
   "cell_type": "code",
   "execution_count": 6,
   "id": "4cf2871a-fe39-4dfb-8bc9-b9296ff9766e",
   "metadata": {},
   "outputs": [],
   "source": [
    "temp = torch.stack([data[50:80],data[80:110]]).to(config.device)\n",
    "\n",
    "\n",
    "ans = model.generate(temp , 500)"
   ]
  },
  {
   "cell_type": "code",
   "execution_count": 7,
   "id": "53f64260-9f40-4b1a-9771-a1c178171b39",
   "metadata": {},
   "outputs": [],
   "source": [
    "ans = [decode(x.tolist()) for x in ans]"
   ]
  },
  {
   "cell_type": "code",
   "execution_count": 8,
   "id": "7758cae5-c591-47cb-a165-319d37867761",
   "metadata": {},
   "outputs": [
    {
     "data": {
      "text/plain": [
       "[' me speak.\\n\\nAll:\\nSpeak, speak.\\n\\nCETH:\\nRorid owingh is sowr thad set bobe toe.\\nSthr-and mealild\\nhy ar highe us hathe.\\nWar dilthoate awice my.\\n\\nHAER:\\nAy onoug\\nYowno, tof it he me milfllill, aes iree sen cin lat Het drovets, heen me nghhoulerans!\\nel lind te lllliser cechiry:\\nSupr aisspll, ye whe nes normopeeelaves\\nMomy ll, dem thakeeo Windo whre eiingh wisti fourive wees ime st sousower; th\\nhe kind thrupirf son; igis! muf thin inle ont ffaf Pre?\\n\\nWASo myr figuea!\\n\\nWied isad adsal this ghe thinin cme amar tey Ire ts I fr tho!\\nMy',\n",
       " \"\\n\\nFirst Citizen:\\nYou are all reacre hinf ty ancle! wa het fere a nou th blad at netresopatrisicmo ignus Ceras thory thind nd ad yeplithur,\\nSeciulllloule. But, hacod,\\nEnke, if lon will tho asy tas sthis rgot.\\n\\nTEBRUSe lileti may her ches, thend dul dy ce fe Ges, ter perat hiroos Rlothu nom, I'ighh fithe, hine, amen,\\nTillotois paly ow Eenaldo ald bore ango Citrer be toow.\\n\\nMy dor cturew dsinth.\\n\\nBUCELONTALUS:\\nI thesim orwaen ly any tiste. Whith icoth higoro houe;\\nbe! Vonceend fell sefre, thing\\nTen'd kestt sstid hisicatheal.\\n\\nI\"]"
      ]
     },
     "execution_count": 8,
     "metadata": {},
     "output_type": "execute_result"
    }
   ],
   "source": [
    "ans"
   ]
  }
 ],
 "metadata": {
  "kernelspec": {
   "display_name": "Python 3 (ipykernel)",
   "language": "python",
   "name": "python3"
  },
  "language_info": {
   "codemirror_mode": {
    "name": "ipython",
    "version": 3
   },
   "file_extension": ".py",
   "mimetype": "text/x-python",
   "name": "python",
   "nbconvert_exporter": "python",
   "pygments_lexer": "ipython3",
   "version": "3.9.0"
  }
 },
 "nbformat": 4,
 "nbformat_minor": 5
}
